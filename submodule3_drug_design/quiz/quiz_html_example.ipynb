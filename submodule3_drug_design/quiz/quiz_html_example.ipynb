{
 "cells": [
  {
   "cell_type": "code",
   "execution_count": null,
   "id": "04a42d8d-63ac-473a-8f05-9b07fd5acd8d",
   "metadata": {},
   "outputs": [],
   "source": [
    "#Only run if you have note already installed the jupyterquiz package\n",
    "!pip install jupyterquiz --quiet"
   ]
  },
  {
   "cell_type": "code",
   "execution_count": null,
   "id": "e3f5ab42-29d4-450a-a2ee-18e06f5a5aae",
   "metadata": {},
   "outputs": [],
   "source": [
    "from jupyterquiz import display_quiz\n",
    "display_quiz('json/submodule3_quiz.json')"
   ]
  },
  {
   "cell_type": "code",
   "execution_count": null,
   "id": "c4fc6543-b78c-472d-8ced-a06c82e35cbd",
   "metadata": {},
   "outputs": [],
   "source": []
  }
 ],
 "metadata": {
  "kernelspec": {
   "display_name": "Python 3 (ipykernel)",
   "language": "python",
   "name": "conda-base-py"
  },
  "language_info": {
   "codemirror_mode": {
    "name": "ipython",
    "version": 3
   },
   "file_extension": ".py",
   "mimetype": "text/x-python",
   "name": "python",
   "nbconvert_exporter": "python",
   "pygments_lexer": "ipython3",
   "version": "3.10.15"
  }
 },
 "nbformat": 4,
 "nbformat_minor": 5
}
