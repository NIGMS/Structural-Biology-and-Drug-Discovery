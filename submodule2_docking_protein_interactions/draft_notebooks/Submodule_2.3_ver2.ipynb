{
 "cells": [
  {
   "cell_type": "markdown",
   "metadata": {},
   "source": [
    "# ADD TITLE OF SUBMODULE 2.3\n",
    "<mark> EDIT</mark>\n",
    "\n",
    "### **Learning Objectives:**\n",
    "- Learn how to prepare the 3D structure of small molecule ligand drugs using sketching software.\n",
    "- Perform protein-protein docking and analyze the interaction surface of two proteins using ClusPro.\n",
    "\n",
    "### **Prerequisites:** \n",
    "- Familiarity with Pymol\n",
    "- Ability to sign up for ClusPro account (free)\n",
    "- <mark> anything else? </mark>"
   ]
  },
  {
   "cell_type": "markdown",
   "metadata": {},
   "source": [
    "## **Sketching and Generating 3D structure of a ligand**\n",
    "\n",
    "So far, we have looked at the docking of ligand to protein using the 3D structures available on protein data bank (PDB). The 3D structure for a new ligand, however, is not always available from the typical public databases. In cases such as these, if you want to create a new ligand and dock it to the protein of interest, the 3D ligand structure needs to be created. Here we will use the structure of Acetaminophen (shown below) as an example to show how an individual can create or sketch a new molecule and generate the 3D structure of the ligand molecule.\n",
    "\n",
    "<center><img src=\"images/fig16_acetaminophen_structure.png\" width=300 /><br>"
   ]
  },
  {
   "cell_type": "markdown",
   "metadata": {},
   "source": [
    "## **Using Autodock when you have a ligand with reactive atoms.**\n",
    "\n",
    "Many drug molecules have reactive atoms, such as halogens, in their chemical structure. When your ligand contains halogens such as chlorine, bromine, iodine you need to create the Grid using ligand and receptor both. Most of the proteins do not have these atoms and if you create a grid using protein receptor as explained in the above example, docking calculations do not run as grid files for halogens are not found. The example below provides creating a grid in Autodock when you have halogens in the ligand. Once you create the grid with halogen atoms, docking calculations are similar to the one explained above.\n",
    "\n",
    "<center><img src=\"images/fig17_halogen_ligand.png\" width=300 /><br>"
   ]
  },
  {
   "cell_type": "markdown",
   "metadata": {},
   "source": [
    "## **Protein-Protein docking**\n",
    "Most of the docking methods used are for small molecule-protein docking. However, if you want to define the binding site of protein-protein interactions, you need protein docking methods since both proteins are large macromolecules. The docking of two proteins helps us to define the binding interface of two proteins and target protein-protein interaction inhibitors. Experimental methods such as X-ray crystallography and Cryo-electron microscopy are used to elucidate the structure of protein complexes. In many cases, the structure of individual proteins is known, and complex protein structures have to be modeled. Protein-protein docking methods are used to predict the structure of protein complexes. However, one must be cautious with the structure of complexes generated with such protein docking methods, as several possible binding modes are possible. If there is experimental information that can support a model, it should be evaluated and considered.\n",
    "Why do we need the protein-protein complex structure model?<br>\n",
    "\n",
    "Protein-protein interactions are very important in many physiological processes in the human body.  These interactions help carry out many cellular processes. Any deregulation in protein-protein interaction may result in disease states. One of the examples of protein-protein interactions is epidermal growth factor receptor (EGFR) interactions. There are four EGFRs, EGFR (HER1), HER2, HER3 and HER4.  These EGFR proteins form dimers upon ligand binding and carry out signaling for cell growth and differentiation. Any deregulation or overproduction of this pathway leads to the formation of many dimers, resulting in the disease state. In such cases, protein-protein interaction needs to be modulated or inhibited. One of the methods of drug design is protein-protein interaction inhibition. To design inhibitors of protein-protein interactions of EGFRs, we need knowledge of the interacting surface of proteins.\n",
    "\n",
    "## **Using ClusPro**\n",
    "In ClusPro, the ligand is rotated through a specified number (**n**) of rotations. For each rotation, the ligand is translated in the *x*, *y*, and *z* directions relative to the receptor on a grid. The translation with the *best score* for each rotation is selected.\n",
    "\n",
    "Among the *n rotations*, ClusPro selects *1,000 rotation/translation combinations* with the lowest scores as possible models of the protein-protein complex.\n",
    "\n",
    "To select the best model, use your knowledge of the two proteins and any experimental support to identify the best model. Typically you should start with the balanced model if prior knowledge is unavailable as per ClusPro default recommendations.\n",
    "\n",
    "For more details, visit the [ClusPro website](https://cluspro.org/login.php)\n"
   ]
  },
  {
   "cell_type": "markdown",
   "metadata": {},
   "source": [
    "-------------------\n",
    "\n",
    "# 📊 Tutorials\n",
    "In these tutorials, we will use the PyMOL, ClusPro, and other cheminformatic tools to work through <u>**three**</u> applied activities to:\n",
    "- Build a small molecule ligand when a pulic *.pdb* file is not available.\n",
    "- Learn the nuances of generating a grid for a molecule with reactive atoms.\n",
    "- Use ClusPro for Protein-Protein docking.\n",
    "\n",
    "## Before you begin:\n",
    "- Run the PyMOL GUI by following the directions provided in the Submodule 0 notebook, provided here: [start_gui-server](../submodule0_pymol_setup/start-gui-server.ipynb)\n",
    "- Register for a ClusPro account through their website - [ClusPro website](https://cluspro.org/login.php) **[OPTIONAL]**\n",
    "\n",
    "### 🌟 **Activity 1: Sketching Acetaminophen Molecule and Preparing for Docking**\n",
    "\n",
    "This acitivity involves creating a 3D structure of acetaminophen using an online cheminformatics tool and preparing it for docking studies.\n",
    "\n",
    "#### **Step 1. Access the Online Cheminformatics Tool**\n",
    "1. Open the [e-Drug 3D platform](https://chemoinfo.ipmc.cnrs.fr/LEA3D/drawonline.html)\n",
    "\n",
    "#### **Step 2. Sketch the Acetaminophen Molecule**\n",
    "1. Use the drawing tools to sketch the structure of acetaminophen (paracetamol).\n",
    "   - The Acetaminophen structure consists of:\n",
    "     - A benzene ring.\n",
    "     - A hydroxyl group (-OH) at one position.\n",
    "     - An amide group (-NHCOCH3) at another position.\n",
    "2. Click the *Convert to SDF* button to generate a 3D SDF (Structure Data File) of the molecule.\n",
    "\n",
    "#### **Step 3. Generate 3D Conformations**\n",
    "1. From the *3D Structure Window*, click *Generate 3D SDF*.\n",
    "   - You may provide options for generating multiple conformations if desired.\n",
    "2. Verify the 3D structure in the visualization panel.\n",
    "\n",
    "#### **Step 4. Download the Molecule**\n",
    "1. Click the `Download PDB` button in the tool to download the 3D structure in PDB format:\n",
    "2. Save the file as `acetaminophen.pdb`\n",
    "3. The downloaded `acetaminophen.pdb` file can now be used as a *ligand* for docking studies with your protein of interest.\n",
    "\n",
    "--------------------"
   ]
  },
  {
   "cell_type": "markdown",
   "metadata": {},
   "source": [
    "### 🌟 **Activity 2: Generating Grid for Chlorine and Bromine Atoms**\n",
    "This activity involves using AutoGrid to create a grid specifically for chlorine and bromine atoms in a molecule, preparing the ligand and receptor for docking calculations and demonstrates how to include specific reactive atom types, such as chlorine and bromine, in grid generation for docking calculations using AutoGrid and AutoDock.\n",
    "\n",
    "### **Steps to Perform the Activity**\n",
    "\n",
    "#### **Step 1. Access the Online Cheminformatics Tool**\n",
    "1. Open the [e-Drug 3D platform](https://chemoinfo.ipmc.cnrs.fr/LEA3D/drawonline.html)\n",
    "\n",
    "#### **Step 2. Sketch the Acetaminophen Molecule**\n",
    "1. Use the drawing tools to sketch the structure shown above.\n",
    "2. Click the *Convert to SDF* button to generate a 3D SDF (Structure Data File) of the molecule.\n",
    "\n",
    "#### **Step 3. Generate 3D Conformations**\n",
    "1. From the *3D Structure Window*, click *Generate 3D SDF*.\n",
    "   - You may provide options for generating multiple conformations if desired.\n",
    "2. Verify the 3D structure in the visualization panel.\n",
    "\n",
    "#### **Step 4. Download the Molecule**\n",
    "1. Click the `Download PDB` button in the tool to download the 3D structure in PDB format:\n",
    "2. Save the file as `molecule1.pdb`\n",
    "\n",
    "#### **Step 5. Prepare the Ligand**\n",
    "1. Open the ligand file in AutoDock MGLTools by navigating to: <br>\n",
    "    `Ligand > Open > Molecule1.pdb`\n",
    "2. Save the ligand as a *PDBQT file*:<br>\n",
    "   `Ligand > Save > PDBQT`\n",
    "3. Save the file as `molecule1.pdbqt`\n",
    "\n",
    "#### **Step 6. Load the Receptor**\n",
    "1. Open the receptor file:<br>\n",
    "   `File > Open > hiv1receptor.pdbqt`\n",
    "    - Both ligand and receptor should now be displayed in the workspace.\n",
    "\n",
    "#### **Step 7. Create a Grid Box for Docking**\n",
    "1. Set Macromolecule by going to:<br>\n",
    "   `Grid > Macromolecule > Choose` and select `hiv1receptor.pdbqt`\n",
    "2. Set Map Types by navigating to:<br>\n",
    "   `Grid > Set Map Types > Directly` <br>\n",
    "   - Then, go to `Grid > Set Map Types > Choose Ligand` and select `molecule1.pdbqt`.\n",
    "3. Configure the Grid Box:<br>\n",
    "   `Grid > GridBox`\n",
    "   - Adjust the grid box dimensions and spacing to encompass the receptor and ligand binding site.\n",
    "4. Save the Grid Parameter File (GPF):<br>\n",
    "   `Grid > Output > Save GPF`\n",
    "5. Name the file `chlhivreceptor.gpf`.\n",
    "\n",
    "#### **Step 8. Check the Grid Parameter File**\n",
    "1. Navigate to:<br>\n",
    "   `Grid > Edit GPF`\n",
    "2. Verify that the parameter file includes entries for bromine (`Br`) and chlorine (`Cl`) atoms.\n",
    "\n",
    "#### **Step 9. Docking Calculations [OPTIONAL]**\n",
    "<div class=\"alert alert-block alert-warning\"> <b>Attention:</b> As previously stated, on a standard laptop, the estimated runtime for this step is <u>~10–16 hours</u>. Due to the long runtime for this step we have marked it as <b>[optional]</b>. Faster results can be achieved by decreasing the search parameter values and or increasing computational resources (if running module on the cloud).</div> \n",
    "    \n",
    "1. Run AutoDock with the prepared grid parameter file (`chlhivreceptor.gpf`) and docking parameter file (`hivreceptordock.dpf`).\n",
    "\n",
    "### **Key Outputs**\n",
    "- The *Grid Parameter File* (`chlhivreceptor.gpf`) which, as shown in the image below, should include parameters for chlorine (Cl) and bromine (Br) atoms.\n",
    "- Docking calculations will utilize the grid box configured for the specified atoms.\n",
    "\n",
    "<center><img src=\"images/fig18_grid_parameter_file.png\" width=600 /><br>"
   ]
  },
  {
   "cell_type": "markdown",
   "metadata": {},
   "source": [
    "-----------------\n",
    "\n",
    "### 🌟 **Activity 3: Modeling EGFR and HER2 Protein Complex Using ClusPro**\n",
    "This activity focuses on using the **ClusPro protein-protein docking server** to model the interaction between the extracellular domains of EGFR (PDB ID: 3NJP) and HER4 (PDB ID: 8U4I). The purpose of the activity is to demonstrate how to prepare protein structures using PyMOL and perform protein-protein docking with ClusPro.\n",
    "\n",
    "### **Steps to Perform the Activity**\n",
    "\n",
    "#### **Step 1. Access ClusPro Docking Server**\n",
    "1. If you haven't already, go to the [ClusPro website](https://cluspro.org/login.php).\n",
    "2. Create a ClusPro account:\n",
    "   - Register with a username and password.\n",
    "   - Provide an email address to receive the docking results.\n",
    "\n",
    "#### **Step 2. Preparing EGFR Monomer Using PyMOL**\n",
    "1. Type the following command in PyMOL to fetch the EGFR homodimer structure in PyMOL:<br>\n",
    "   `PyMol> fetch 3NJP`\n",
    "\n",
    "2. Remove one of the molecules from the homodimer:<br>\n",
    "   `PyMol> remove chain B`\n",
    "   \n",
    "3. Remove the ligand peptide:<br>\n",
    "   `PyMol> remove resn LIG` <mark>need to specify ligand here? </mark>\n",
    "   \n",
    "4. Remove solvent molecules:<br>\n",
    "   `PyMol> remove solvent`\n",
    "   \n",
    "5. Save the cleaned structure:<br>\n",
    "   `PyMol> save EGFRm1.pdb`\n",
    "\n",
    "### Alternative Method - Write and Load PML Script\n",
    "<mark>Can breakout step 3 into 3 if need be.</mark>"
   ]
  },
  {
   "cell_type": "code",
   "execution_count": null,
   "metadata": {},
   "outputs": [],
   "source": [
    "# PML Script: Proper Docking Visualization\n",
    "## run this code cell to write .pml script file and run analysis outlined step-by-step above\n",
    "## Once you write the file it can be run in the PyMOL GUI one of two ways:\n",
    "##    1. Select file run script and then the pml script within PyMOL -or-\n",
    "##    2. Set your directory into the folder and then run: pymol> @script.pml\n",
    "\n",
    "with open(\"pml_scripts/2.3_preparing_egfr.pml\", \"w\") as scriptout:\n",
    "    scriptout.write(\"# Step 1: Fetch the EGFR homodimer structure\\n\")\n",
    "    scriptout.write(\"fetch 3NJP\\n\")\n",
    "    \n",
    "    scriptout.write(\"# Step 2: Remove one of the molecules from the homodimer\\n\")\n",
    "    scriptout.write(\"remove chain B\\n\")\n",
    "    \n",
    "    scriptout.write(\"# Step 3: Remove the ligand peptide and solvents\\n\")\n",
    "    scriptout.write(\"remove organic or solvent or hetatm\\n\")\n",
    "    \n",
    "    scriptout.write(\"# Step 4: Save the cleaned structure\\n\")\n",
    "    scriptout.write(\"save Structural-Biology-and-Drug-Discovery/submodule2_docking_protein_interactions/data/EGFRm1.pdb"
   ]
  },
  {
   "cell_type": "markdown",
   "metadata": {},
   "source": [
    "#### **Step 3. Preparing HER4 Monomer Using PyMOL**\n",
    "1. Type the following command in PyMOL to fetch the HER4 homodimer structure in PyMOL:<br>\n",
    "   `PyMol> fetch 8U4I`\n",
    "\n",
    "2. Remove one molecule from the homodimer:<br>\n",
    "   `PyMol> remove chain B`\n",
    "   \n",
    "3. Remove the ligand peptide:<br>\n",
    "   `PyMol> remove resn LIG` <mark>need to specify ligand here. Or update as shown above. </mark>\n",
    "   \n",
    "4. Remove solvent molecules:<br>\n",
    "   `PyMol> remove solvent`\n",
    "   \n",
    "5. Save the cleaned structure:<br>\n",
    "   `PyMol> save HER4m1.pdb`\n",
    "\n",
    "### Alternative Method - Write and Load PML Script\n",
    "<mark>Feel that there is no need to have these as two seperate. Should remove the main method and add in a section to identify the pymol code from script</mark>"
   ]
  },
  {
   "cell_type": "code",
   "execution_count": null,
   "metadata": {},
   "outputs": [],
   "source": [
    "with open(\"pml_scripts/2.3_preparing_her4.pml\", \"w\") as scriptout:\n",
    "    scriptout.write(\"# Step 1: Fetch the HER4 homodimer structure\\n\")\n",
    "    scriptout.write(\"fetch 8U4I\\n\")\n",
    "    \n",
    "    scriptout.write(\"# Step 2: Remove one molecule from the homodimer\\n\")\n",
    "    scriptout.write(\"remove chain B\\n\")\n",
    "    \n",
    "    scriptout.write(\"# Step 3: Remove the ligand peptide and solvents\\n\")\n",
    "    scriptout.write(\"remove organic or solvent or hetatm\\n\")\n",
    "    \n",
    "    scriptout.write(\"# Step 4: Save the cleaned structure\\n\")\n",
    "    scriptout.write(\"save Structural-Biology-and-Drug-Discovery/submodule2_docking_protein_interactions/data/HER4m1.pdb"
   ]
  },
  {
   "cell_type": "markdown",
   "metadata": {},
   "source": [
    "#### **Step 4a. [OPTION 1] Submit a Docking Job on ClusPro Website**\n",
    "1. Login to your ClusPro account.\n",
    "2. Enter a *Job Name* (e.g., `testjois1`).\n",
    "3. Upload the Receptor and Ligand\n",
    "   - *Receptor File*: `EGFRm1.pdb`\n",
    "   - *Ligand File*: `HER4m1.pdb`\n",
    "4. Click *Dock* to submit the job.\n",
    "\n",
    "#### **Step 4b. [OPTION 2] Submit a Docking Job Using Cluspro-API**\n",
    "<mark>CLUSPRO CODE NEEDS TESTING<mark>"
   ]
  },
  {
   "cell_type": "code",
   "execution_count": null,
   "metadata": {},
   "outputs": [],
   "source": [
    "#Install cluspro-api python library\n",
    "!pip install cluspro-api"
   ]
  },
  {
   "cell_type": "code",
   "execution_count": null,
   "metadata": {},
   "outputs": [],
   "source": [
    "#define cluspro-api parameter values\n",
    "username = '' #REPLACE WITH YOUR CLUSPRO USERNAME WITHIN ''\n",
    "secret = '' #REPLACE WITH YOUR API SECRET WITHIN ''\n",
    "receptor_path = 'data/EGFRm1.pdb' #PATH TO RECEPTOR .PDB FILE\n",
    "ligand_path = 'data/HER4m1.pdb' #PATH TO LIGAND .PDB FILE"
   ]
  },
  {
   "cell_type": "code",
   "execution_count": null,
   "metadata": {},
   "outputs": [],
   "source": [
    "#submit cluspro job\n",
    "cluspro_submit --username username --secret secret --receptor receptor_path --ligand ligand_path"
   ]
  },
  {
   "cell_type": "markdown",
   "metadata": {},
   "source": [
    "#### **Step 5a. [OPTION 1, if following Step 4a] Access Results on ClusPro Website (if not running cluspro-api)**\n",
    "1. The docking job will run on the server.\n",
    "2. Results are sent to your email or can be accessed by logging into ClusPro.\n",
    "3. The job may take several minutes to hours, depending on server load.\n",
    "4. The Job ID, Name, and Status (e.g., \"Completed\") will be displayed.\n",
    "5. If the job is completed, click on the Job ID number to view the results.\n",
    "\n",
    "#### **Step 5b. [OPTION 2, if following Step 4b] Access Results on ClusPro Website (if not running cluspro-api)**"
   ]
  },
  {
   "cell_type": "code",
   "execution_count": null,
   "metadata": {},
   "outputs": [],
   "source": [
    "#download cluspro results\n",
    "cluspro_download <jobid> #REPLACE WITH JOB ID DISPLAYED ABOVE WHEN SUBMITTING JOB TO API"
   ]
  },
  {
   "cell_type": "markdown",
   "metadata": {},
   "source": [
    "#### **Step 6. Results Analysis**\n",
    "- The docking results will include multiple predicted receptor-ligand complexes ranked by clustering and energy scores.\n",
    "- Analyze these results to select the most plausible interaction model.\n",
    "- Display and download various protein models based on non-covalent interactions or models with balanced interactions according to figure below.\n",
    "- Based on the structures in this example, the `cluster score`, and ranking, `Model 1` is the best model for the `EGFR:HER4 complex` and should be used for the next step.\n",
    "\n",
    "<center><img src=\"images/fig19_cluspro_job.png\" width=700 /><br>"
   ]
  },
  {
   "cell_type": "markdown",
   "metadata": {},
   "source": [
    "#### **Step 7. Viewing the Complex in PyMOL**\n",
    "1. Open the *Model 1* file downloaded from ClusPro in PyMOL (e.g., `model.002.01.pdb`) <mark>**NOTE:** Should add steps to define filenames and upload directories where files are being created and used. I have tried to add these for steps executed within the notebook, but should guide the user where to upload files for FTMAP and ClusPRO</mark>\n",
    "2. Analyze the EGFR:HER4 complex model and identify secondary structures (**helices**, **beta sheets**) involved in complex formation. Observe how these elements contribute to stabilizing the interaction. <mark>how?</mark>\n",
    "\n",
    "<center><img src=\"images/fig20_egfr_her4_molecule.png\" width=400 /><br>"
   ]
  },
  {
   "cell_type": "markdown",
   "metadata": {},
   "source": [
    "------------------------\n",
    "# Additional Questions\n",
    "Click through the flashcards below to explore FAQs and associated answers."
   ]
  },
  {
   "cell_type": "code",
   "execution_count": null,
   "metadata": {},
   "outputs": [],
   "source": [
    "#Install python jupytercards library\n",
    "!pip install jupytercards --quiet"
   ]
  },
  {
   "cell_type": "code",
   "execution_count": null,
   "metadata": {},
   "outputs": [],
   "source": [
    "#Imports\n",
    "from jupytercards import display_flashcards\n",
    "from IPython.display import Image"
   ]
  },
  {
   "cell_type": "code",
   "execution_count": null,
   "metadata": {},
   "outputs": [],
   "source": [
    "display_flashcards('quiz/json/question_flashcards.json')"
   ]
  },
  {
   "cell_type": "markdown",
   "metadata": {},
   "source": [
    "------------------------\n",
    "# 📖 **Submodule 2 QUIZ**"
   ]
  },
  {
   "cell_type": "code",
   "execution_count": null,
   "metadata": {},
   "outputs": [],
   "source": [
    "#Install python jupyterquiz library\n",
    "!pip install jupyterquiz --quiet"
   ]
  },
  {
   "cell_type": "code",
   "execution_count": null,
   "metadata": {},
   "outputs": [],
   "source": [
    "# Imports\n",
    "from jupyterquiz import display_quiz\n",
    "from IPython.display import Image"
   ]
  },
  {
   "cell_type": "code",
   "execution_count": null,
   "metadata": {},
   "outputs": [],
   "source": [
    "display_quiz('quiz/json/quiz0.json')"
   ]
  },
  {
   "cell_type": "code",
   "execution_count": null,
   "metadata": {},
   "outputs": [],
   "source": [
    "display_quiz('quiz/json/quiz1.json')"
   ]
  },
  {
   "cell_type": "code",
   "execution_count": null,
   "metadata": {},
   "outputs": [],
   "source": [
    "display_quiz('quiz/json/quiz2.json')"
   ]
  },
  {
   "cell_type": "code",
   "execution_count": null,
   "metadata": {},
   "outputs": [],
   "source": [
    "display_quiz('quiz/json/quiz3.json')"
   ]
  },
  {
   "cell_type": "code",
   "execution_count": null,
   "metadata": {},
   "outputs": [],
   "source": [
    "display_quiz('quiz/json/quiz4.json')"
   ]
  },
  {
   "cell_type": "code",
   "execution_count": null,
   "metadata": {},
   "outputs": [],
   "source": [
    "display_quiz('quiz/json/quiz5.json')"
   ]
  },
  {
   "cell_type": "code",
   "execution_count": null,
   "metadata": {},
   "outputs": [],
   "source": [
    "display_quiz('quiz/json/quiz6.json')"
   ]
  },
  {
   "cell_type": "code",
   "execution_count": null,
   "metadata": {},
   "outputs": [],
   "source": [
    "display_quiz('quiz/json/quiz7.json')"
   ]
  },
  {
   "cell_type": "code",
   "execution_count": null,
   "metadata": {},
   "outputs": [],
   "source": [
    "display_quiz('quiz/json/quiz8.json')"
   ]
  },
  {
   "cell_type": "code",
   "execution_count": null,
   "metadata": {},
   "outputs": [],
   "source": [
    "display_quiz('quiz/json/quiz9.json')"
   ]
  },
  {
   "cell_type": "markdown",
   "metadata": {},
   "source": [
    "<center><img src=\"images/quiz_image.jfif\" width=600 /><br>"
   ]
  },
  {
   "cell_type": "code",
   "execution_count": null,
   "metadata": {},
   "outputs": [],
   "source": [
    "display_quiz('quiz/json/quiz10.json')"
   ]
  },
  {
   "cell_type": "markdown",
   "metadata": {},
   "source": [
    "---------------\n",
    "## Conclusions\n",
    "<mark> Provide an overview of the lessons and skills learned from the module. </mark>\n",
    "## Clean Up\n",
    "<div class=\"alert alert-block alert-warning\"> <b>Attention:</b> Remember to shutdown VM and delete any relevant resources</a>. </div>"
   ]
  }
 ],
 "metadata": {
  "kernelspec": {
   "display_name": "Python 3 (ipykernel)",
   "language": "python",
   "name": "conda-base-py"
  },
  "language_info": {
   "codemirror_mode": {
    "name": "ipython",
    "version": 3
   },
   "file_extension": ".py",
   "mimetype": "text/x-python",
   "name": "python",
   "nbconvert_exporter": "python",
   "pygments_lexer": "ipython3",
   "version": "3.10.15"
  }
 },
 "nbformat": 4,
 "nbformat_minor": 4
}
