{
 "cells": [
  {
   "cell_type": "code",
   "execution_count": null,
   "id": "ca7e1a7d-a446-4229-8b1b-85a9bc9ad03b",
   "metadata": {},
   "outputs": [],
   "source": [
    "#Only run if you have note already installed the jupyterquiz package\n",
    "!pip install jupytercards --quiet"
   ]
  },
  {
   "cell_type": "code",
   "execution_count": null,
   "id": "b45f154c-97b9-496e-958b-ea63080d0cb3",
   "metadata": {},
   "outputs": [],
   "source": [
    "from jupytercards import display_flashcards\n",
    "display_flashcards(\"question_flashcards.json\")"
   ]
  }
 ],
 "metadata": {
  "kernelspec": {
   "display_name": "Python 3 (ipykernel)",
   "language": "python",
   "name": "conda-base-py"
  },
  "language_info": {
   "codemirror_mode": {
    "name": "ipython",
    "version": 3
   },
   "file_extension": ".py",
   "mimetype": "text/x-python",
   "name": "python",
   "nbconvert_exporter": "python",
   "pygments_lexer": "ipython3",
   "version": "3.10.15"
  }
 },
 "nbformat": 4,
 "nbformat_minor": 5
}
