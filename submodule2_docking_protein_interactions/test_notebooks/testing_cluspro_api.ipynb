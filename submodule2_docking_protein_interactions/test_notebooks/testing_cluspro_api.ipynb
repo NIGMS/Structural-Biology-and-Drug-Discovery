{
 "cells": [
  {
   "cell_type": "code",
   "execution_count": null,
   "id": "a492c769-a605-413b-977d-2e22a515a3dc",
   "metadata": {},
   "outputs": [],
   "source": [
    "#Install cluspro-api python library\n",
    "!pip install cluspro-api"
   ]
  },
  {
   "cell_type": "code",
   "execution_count": null,
   "id": "c489dcba-aa53-445b-ac85-88899415027e",
   "metadata": {},
   "outputs": [],
   "source": [
    "import cluspro_api"
   ]
  },
  {
   "cell_type": "code",
   "execution_count": null,
   "id": "d9e08144-8d92-467c-922e-1b51af338b3d",
   "metadata": {},
   "outputs": [],
   "source": [
    "#define cluspro-api parameter values\n",
    "username = ''\n",
    "secret = ''\n",
    "receptor_path = '' #PATH TO RECEPTOR .PDB FILE\n",
    "ligand_path = '' #PATH TO LIGAND .PDB FILE"
   ]
  },
  {
   "cell_type": "code",
   "execution_count": null,
   "id": "1ad5ce22-0c89-4cf0-8533-be31d76415f3",
   "metadata": {},
   "outputs": [],
   "source": [
    "#submit cluspro job\n",
    "!cluspro_submit --username {username} --secret {secret} --receptor {receptor_path} --ligand {ligand_path}"
   ]
  },
  {
   "cell_type": "code",
   "execution_count": null,
   "id": "2a09c30b-e312-445f-b550-74cd5f2deb96",
   "metadata": {},
   "outputs": [],
   "source": [
    "#download cluspro results\n",
    "cluspro_download <jobid> #REPLACE WITH JOB ID DISPLAYED ABOVE WHEN SUBMITTING JOB TO API"
   ]
  }
 ],
 "metadata": {
  "kernelspec": {
   "display_name": "Python 3 (ipykernel)",
   "language": "python",
   "name": "conda-base-py"
  },
  "language_info": {
   "codemirror_mode": {
    "name": "ipython",
    "version": 3
   },
   "file_extension": ".py",
   "mimetype": "text/x-python",
   "name": "python",
   "nbconvert_exporter": "python",
   "pygments_lexer": "ipython3",
   "version": "3.10.15"
  }
 },
 "nbformat": 4,
 "nbformat_minor": 5
}
