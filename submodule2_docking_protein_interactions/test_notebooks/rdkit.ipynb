{
 "cells": [
  {
   "cell_type": "code",
   "execution_count": null,
   "id": "06a3957d-9dbf-4ab0-bcf5-a494ff15aa3e",
   "metadata": {},
   "outputs": [],
   "source": [
    "#Install rdkit python library\n",
    "!pip install rdkit py3Dmol --quiet"
   ]
  },
  {
   "cell_type": "code",
   "execution_count": null,
   "id": "af568846-5046-4f87-9d0d-88495c9b81bf",
   "metadata": {},
   "outputs": [],
   "source": [
    "from rdkit import Chem\n",
    "from rdkit.Chem import Draw\n",
    "from rdkit.Chem import AllChem"
   ]
  },
  {
   "cell_type": "code",
   "execution_count": null,
   "id": "489cd40d-c01b-4bed-903d-815fa44e811a",
   "metadata": {},
   "outputs": [],
   "source": [
    "m = Chem.MolFromSmiles('CC(=O)NC1=CC=C(C=C1)O')\n",
    "img = Draw.MolToImage(m)\n",
    "img"
   ]
  },
  {
   "cell_type": "code",
   "execution_count": null,
   "id": "8e6a8b26-63c7-4a6a-b1a4-8be8dbdd468c",
   "metadata": {},
   "outputs": [],
   "source": [
    "#@title Use the following Viewer to load your SMILES as a 3D molecule, from Lab06 file\n",
    "import py3Dmol\n",
    "import rdkit\n",
    "from rdkit import Chem\n",
    "from rdkit.Chem import AllChem\n",
    "\n",
    "def MolTo3DView(mol, size=(300, 300), style=\"stick\", surface=False, opacity=0.5):\n",
    "    assert style in ('line', 'stick', 'sphere', 'carton')\n",
    "    mblock = Chem.MolToMolBlock(mol)\n",
    "    viewer = py3Dmol.view()\n",
    "    viewer.addModel(mblock, 'mol')\n",
    "    viewer.setStyle({style:{}})\n",
    "    if surface:\n",
    "        viewer.addSurface(py3Dmol.SAS, {'opacity': opacity})\n",
    "    viewer.zoomTo()\n",
    "    return viewer\n",
    "\n",
    "from ipywidgets import interact,fixed,IntSlider\n",
    "import ipywidgets\n",
    "\n",
    "def smi2conf(smiles):\n",
    "    '''Convert SMILES to rdkit.Mol with 3D coordinates'''\n",
    "    mol = Chem.MolFromSmiles(smiles)\n",
    "    if mol is not None:\n",
    "        mol = Chem.AddHs(mol)\n",
    "        AllChem.EmbedMolecule(mol)\n",
    "        AllChem.MMFFOptimizeMolecule(mol, maxIters=200)\n",
    "        return mol\n",
    "    else:\n",
    "        return None\n",
    "\n",
    "@interact\n",
    "def smi2viewer(smi='CC(=O)NC1=CC=C(C=C1)O'):\n",
    "    try:\n",
    "        conf = smi2conf(smi)\n",
    "        Chem.MolToPDBFile(conf, \"../data/out.pdb\")\n",
    "        return MolTo3DView(conf).show()\n",
    "    except:\n",
    "        return None"
   ]
  },
  {
   "cell_type": "code",
   "execution_count": null,
   "id": "b631a3ff-6d3c-4a1a-ae6a-6d2eb531f6e4",
   "metadata": {},
   "outputs": [],
   "source": [
    "m = Chem.MolFromPDBFile('../data/out.pdb')\n",
    "img2 = Draw.MolToImage(m)\n",
    "img2"
   ]
  },
  {
   "cell_type": "code",
   "execution_count": null,
   "id": "c097722b-0cf4-4da0-95cb-32f5578a674a",
   "metadata": {},
   "outputs": [],
   "source": []
  }
 ],
 "metadata": {
  "kernelspec": {
   "display_name": "Python 3 (ipykernel)",
   "language": "python",
   "name": "conda-base-py"
  },
  "language_info": {
   "codemirror_mode": {
    "name": "ipython",
    "version": 3
   },
   "file_extension": ".py",
   "mimetype": "text/x-python",
   "name": "python",
   "nbconvert_exporter": "python",
   "pygments_lexer": "ipython3",
   "version": "3.10.15"
  }
 },
 "nbformat": 4,
 "nbformat_minor": 5
}
