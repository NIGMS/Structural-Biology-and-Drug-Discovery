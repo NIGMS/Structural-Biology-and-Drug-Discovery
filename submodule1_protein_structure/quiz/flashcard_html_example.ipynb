{
 "cells": [
  {
   "cell_type": "code",
   "execution_count": null,
   "id": "ca7e1a7d-a446-4229-8b1b-85a9bc9ad03b",
   "metadata": {},
   "outputs": [],
   "source": [
    "#Only run if you have note already installed the jupyterquiz package\n",
    "!pip install jupytercards --quiet"
   ]
  },
  {
   "cell_type": "code",
   "execution_count": null,
   "id": "b45f154c-97b9-496e-958b-ea63080d0cb3",
   "metadata": {},
   "outputs": [],
   "source": [
    "from jupytercards import display_flashcards\n",
    "display_flashcards(\"json/question_flashcards_1.2.4.json\")"
   ]
  },
  {
   "cell_type": "code",
   "execution_count": null,
   "id": "6613741c-acb6-4029-b6f3-f8c4793e58d0",
   "metadata": {},
   "outputs": [],
   "source": []
  }
 ],
 "metadata": {
  "kernelspec": {
   "display_name": "Python 3 (ipykernel)",
   "language": "python",
   "name": "conda-base-py"
  },
  "language_info": {
   "codemirror_mode": {
    "name": "ipython",
    "version": 3
   },
   "file_extension": ".py",
   "mimetype": "text/x-python",
   "name": "python",
   "nbconvert_exporter": "python",
   "pygments_lexer": "ipython3",
   "version": "3.10.15"
  }
 },
 "nbformat": 4,
 "nbformat_minor": 5
}
