{
 "cells": [
  {
   "cell_type": "code",
   "execution_count": null,
   "id": "04a42d8d-63ac-473a-8f05-9b07fd5acd8d",
   "metadata": {},
   "outputs": [],
   "source": [
    "#Only run if you have note already installed the jupyterquiz package\n",
    "!pip install jupyterquiz --quiet"
   ]
  },
  {
   "cell_type": "code",
   "execution_count": null,
   "id": "e3f5ab42-29d4-450a-a2ee-18e06f5a5aae",
   "metadata": {},
   "outputs": [],
   "source": [
    "from jupyterquiz import display_quiz\n",
    "display_quiz('json/quiz7.json')"
   ]
  },
  {
   "cell_type": "code",
   "execution_count": null,
   "id": "6e494816-e0e4-439a-9b74-c0e3887ddcf1",
   "metadata": {},
   "outputs": [],
   "source": []
  }
 ],
 "metadata": {
  "kernelspec": {
   "display_name": "Python 3 (ipykernel)",
   "language": "python",
   "name": "conda-base-py"
  },
  "language_info": {
   "codemirror_mode": {
    "name": "ipython",
    "version": 3
   },
   "file_extension": ".py",
   "mimetype": "text/x-python",
   "name": "python",
   "nbconvert_exporter": "python",
   "pygments_lexer": "ipython3",
   "version": "3.10.15"
  }
 },
 "nbformat": 4,
 "nbformat_minor": 5
}
